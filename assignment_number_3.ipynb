{
 "cells": [
  {
   "cell_type": "markdown",
   "id": "8823fc0c",
   "metadata": {},
   "source": [
    "# ASSIGNMENT 3"
   ]
  },
  {
   "cell_type": "code",
   "execution_count": 63,
   "id": "600d7559",
   "metadata": {},
   "outputs": [
    {
     "name": "stdout",
     "output_type": "stream",
     "text": [
      "Items: ['juice', 'chips', 'apple']\n"
     ]
    },
    {
     "data": {
      "text/plain": [
       "('Shipped', ['juice', 'chips', 'apple'])"
      ]
     },
     "execution_count": 63,
     "metadata": {},
     "output_type": "execute_result"
    }
   ],
   "source": [
    "#1 Encapsulations\n",
    "class OnlineOrder:\n",
    "    def __init__(self, order_id, items, status):\n",
    "        self.__orderid = order_id\n",
    "        self.__items = items\n",
    "        self.__status = status\n",
    "\n",
    "    def add_items(self, additem):\n",
    "        self.__items.append(additem)\n",
    "\n",
    "    def remove_item(self, remove):\n",
    "        if remove in self.__items:\n",
    "            self.__items.remove(remove)\n",
    "        else:\n",
    "            print(f\"Item '{remove}' not found in order.\")\n",
    "\n",
    "    def update_status(self, update_status):\n",
    "        self.__status = update_status\n",
    "\n",
    "    def get_order_summary(self):\n",
    "        print(\"Items:\", self.__items)\n",
    "        return self.__status, self.__items\n",
    "\n",
    "# Testing the class\n",
    "on = OnlineOrder(12323232, [\"juice\", \"chips\", \"apple\"], \"Pending\")\n",
    "on.add_items(\"banana\")\n",
    "on.remove_item(\"banana\")\n",
    "on.update_status(\"Shipped\")\n",
    "on.get_order_summary()\n"
   ]
  },
  {
   "cell_type": "code",
   "execution_count": 50,
   "id": "0ad5fee7",
   "metadata": {},
   "outputs": [
    {
     "name": "stdout",
     "output_type": "stream",
     "text": [
      "Base: ('Aayan', 232323)\n",
      "Manager: ('Sara', 101, 5)\n",
      "Developer: ('John', 334, 'Python')\n"
     ]
    }
   ],
   "source": [
    "# 2 inheritance\n",
    "class Base:\n",
    "    def __init__(self, Name, Id):\n",
    "        self.Name = Name\n",
    "        self.Id = Id\n",
    "\n",
    "    def get_details(self):\n",
    "        return self.Name, self.Id\n",
    "\n",
    "class Manager(Base):\n",
    "    def __init__(self, Name, Id, team_siz):\n",
    "        super().__init__(Name, Id)\n",
    "        self.team_siz = team_siz\n",
    "\n",
    "    def get_details(self):\n",
    "        return self.Name, self.Id, self.team_siz\n",
    "\n",
    "class Developer(Base):\n",
    "    def __init__(self, Name, Id, pro_lang):\n",
    "        super().__init__(Name, Id)\n",
    "        self.pro_lang = pro_lang\n",
    "\n",
    "    def get_details(self):\n",
    "        return self.Name, self.Id, self.pro_lang\n",
    "    \n",
    "bas = Base(\"Aayan\", 232323)\n",
    "print(\"Base:\", bas.get_details())\n",
    "man = Manager(\"Sara\", 101, 5)\n",
    "print(\"Manager:\", man.get_details())\n",
    "dev = Developer(\"John\",334, \"Python\")\n",
    "print(\"Developer:\", dev.get_details())\n"
   ]
  },
  {
   "cell_type": "code",
   "execution_count": null,
   "id": "a22206df",
   "metadata": {},
   "outputs": [
    {
     "name": "stdout",
     "output_type": "stream",
     "text": [
      "sending an email\n",
      "Sending an SMS...\n"
     ]
    }
   ],
   "source": [
    "# 3\n",
    "user_email = input(\"Enter your user to email: \")\n",
    "user_sms = input(\"Enter your user to SMS: \")\n",
    "class MessageSender:\n",
    "    def send(self):\n",
    "        print(\"Sending a message...\")\n",
    "\n",
    "class EmailSender(MessageSender):\n",
    "    def send(self):\n",
    "        print(\"sending an email\")\n",
    "\n",
    "class SMSSender(MessageSender):\n",
    "    def send(self):\n",
    "        print(\"Sending an SMS...\")\n",
    "\n",
    "senders = [EmailSender(), SMSSender()]\n",
    "for sender in senders:\n",
    "    sender.send()\n"
   ]
  },
  {
   "cell_type": "code",
   "execution_count": 62,
   "id": "032aa818",
   "metadata": {},
   "outputs": [
    {
     "name": "stdout",
     "output_type": "stream",
     "text": [
      "Washing the clothes....\n"
     ]
    }
   ],
   "source": [
    "# 4 ABSTRACTION\n",
    "from abc import ABC, abstractmethod\n",
    "class abstract():\n",
    "    @abstractmethod\n",
    "    def turn_on(self):\n",
    "        pass\n",
    "    def turn_off(self):\n",
    "        pass\n",
    "class Washing_machine(abstract):\n",
    "    def turn_on(self):\n",
    "        print(\"Washing the clothes....\")\n",
    "    def turn_off(self):\n",
    "        print(\"Stopped washing clothes\")\n",
    "class microwave(abstract):\n",
    "    def turn_on(self):\n",
    "        print(\"Microwave turned on....\")\n",
    "    def turn_off(self):\n",
    "        print(\"Microwave turned off...\")\n",
    "\n",
    "was = Washing_machine()\n",
    "was.turn_on()"
   ]
  },
  {
   "cell_type": "code",
   "execution_count": null,
   "id": "aa957148",
   "metadata": {},
   "outputs": [
    {
     "name": "stdout",
     "output_type": "stream",
     "text": [
      "online learn\n"
     ]
    },
    {
     "data": {
      "text/plain": [
       "('Aayan', 3434, 'Urdu')"
      ]
     },
     "execution_count": 67,
     "metadata": {},
     "output_type": "execute_result"
    }
   ],
   "source": [
    "#5 All 4 Pillars combined\n",
    "from abc import ABC, abstractmethod\n",
    "class on_learning():\n",
    "    print(\"online learn\")\n",
    "    def access_portal(self):\n",
    "        print(\"Accessing portal....\")\n",
    "class student(on_learning):\n",
    "    def __init__(self, Name, Id, cllass):\n",
    "        self.Name = Name\n",
    "        self.Id = self.Id\n",
    "        self.__classs = cllass\n",
    "    def access_portal(self):\n",
    "        return self.Name, self.Id\n",
    "class Teacher(on_learning):\n",
    "    def __init__(self, Name, Id, Subject_teaching):\n",
    "        self.Name = Name\n",
    "        self.Id = Id\n",
    "        self.subject_t = Subject_teaching\n",
    "    def access_portal(self):\n",
    "        return self.Name, self.Id, self.subject_t\n",
    "    \n",
    "class logs(on_learning):\n",
    "    @abstractmethod\n",
    "    def access_portal(self):\n",
    "        pass\n",
    "    def tchr_access_portal(self):\n",
    "        if T() == True:\n",
    "            print(f\"{T.Name} is currectly accessing the portal\")\n",
    "        else:\n",
    "            print(f\"{s.Name}is currently accessing the portal\")\n",
    "\n",
    "        \n",
    "T = Teacher(\"Aayan\", 3434, \"Urdu\")\n",
    "T.access_portal()\n",
    "s = student(\"Saffan\", 34, \"7th class\")\n",
    "\n",
    "\n"
   ]
  }
 ],
 "metadata": {
  "kernelspec": {
   "display_name": "Python 3",
   "language": "python",
   "name": "python3"
  },
  "language_info": {
   "codemirror_mode": {
    "name": "ipython",
    "version": 3
   },
   "file_extension": ".py",
   "mimetype": "text/x-python",
   "name": "python",
   "nbconvert_exporter": "python",
   "pygments_lexer": "ipython3",
   "version": "3.13.5"
  }
 },
 "nbformat": 4,
 "nbformat_minor": 5
}
