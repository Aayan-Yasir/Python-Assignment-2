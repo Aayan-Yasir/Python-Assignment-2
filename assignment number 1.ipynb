{
  "cells": [
    {
      "cell_type": "code",
      "execution_count": 2,
      "metadata": {
        "colab": {
          "base_uri": "https://localhost:8080/"
        },
        "id": "OeD25_NfPhNv",
        "outputId": "30186e9c-bfa0-42ca-cc56-7bdffac42c4c"
      },
      "outputs": [
        {
          "name": "stdout",
          "output_type": "stream",
          "text": [
            "Numbers Divisible by both 3 and 5:  [15, 30, 45, 60, 75, 90]\n"
          ]
        }
      ],
      "source": [
        "                                                              # ASSIGNMENT 01\n",
        "\n",
        "# For loop:\n",
        "\n",
        "#  Q1: Create a list of all numbers between 1 and 100 that are divisible by both 3 and 5.\n",
        "\n",
        "numbers=[]\n",
        "for i in range(1,101):\n",
        " if i%3==0 and i%5==0:\n",
        "  numbers.append(i)\n",
        "print(\"Numbers Divisible by both 3 and 5: \",numbers)\n",
        "\n",
        "\n"
      ]
    },
    {
      "cell_type": "code",
      "execution_count": 4,
      "metadata": {
        "colab": {
          "base_uri": "https://localhost:8080/"
        },
        "id": "knMA7ZLrQ911",
        "outputId": "29cf4cae-cc81-4b7d-82d2-9b6b80200f05"
      },
      "outputs": [
        {
          "name": "stdout",
          "output_type": "stream",
          "text": [
            "Bahria_College\n"
          ]
        }
      ],
      "source": [
        "# Q2: Write a loop that replaces all spaces in a string with underscores.\n",
        "\n",
        "bckz=\"Bahria College\"\n",
        "final=\"\"\n",
        "for i in bckz:\n",
        "  if i== \" \":\n",
        "    final +=\"_\"\n",
        "  else:\n",
        "    final+=i\n",
        "print(final)\n",
        "\n"
      ]
    },
    {
      "cell_type": "code",
      "execution_count": 13,
      "metadata": {
        "colab": {
          "base_uri": "https://localhost:8080/"
        },
        "id": "t5tdr5FCRy-D",
        "outputId": "6954f43b-b7db-4cba-9101-66488f07a4e3"
      },
      "outputs": [
        {
          "name": "stdout",
          "output_type": "stream",
          "text": [
            "[2, 3, 4, 5, 6, 12]\n"
          ]
        }
      ],
      "source": [
        " # Q3:Check which elements are common in two lists\n",
        "list_1=[1,2,3,4,5,6,8,9,12]\n",
        "list_2=[4,5,6,7,2,3,13,56,12,34]\n",
        "common=[]\n",
        "for i in list_1:\n",
        "  if i in list_2:\n",
        "    if i not in common:\n",
        "     common.append(i)\n",
        "\n",
        "print(common)\n"
      ]
    },
    {
      "cell_type": "code",
      "execution_count": 14,
      "metadata": {
        "colab": {
          "base_uri": "https://localhost:8080/"
        },
        "id": "K457H1ko8b_x",
        "outputId": "3273e877-2b33-4b20-96e6-80aac2c5f045"
      },
      "outputs": [
        {
          "name": "stdout",
          "output_type": "stream",
          "text": [
            "[1, 2, 3, 4, 5, 6]\n",
            "[1, 2, 3, 4, 5]\n",
            "[1, 2, 3, 4]\n",
            "[1, 2, 3]\n",
            "[1, 2]\n",
            "[1]\n",
            "[]\n"
          ]
        }
      ],
      "source": [
        " # While Loop\n",
        " # Q1:Keep removing elements from a list one by one and print the list each time, until it becomes empty\n",
        "iron=[1,2,3,4,5,6]\n",
        "print(iron)\n",
        "while iron:\n",
        "  iron.pop()\n",
        "  print(iron)"
      ]
    },
    {
      "cell_type": "code",
      "execution_count": 15,
      "metadata": {
        "colab": {
          "base_uri": "https://localhost:8080/"
        },
        "id": "0QAhnB-n83BP",
        "outputId": "a60b2f16-d31e-4a69-ef35-60058a79dfba"
      },
      "outputs": [
        {
          "name": "stdout",
          "output_type": "stream",
          "text": [
            "100\n",
            "50.0\n",
            "25.0\n",
            "12.5\n",
            "6.25\n",
            "3.125\n",
            "1.5625\n"
          ]
        }
      ],
      "source": [
        "# Q2:S tart from a number and keep dividing it by 2 until it becomes less than 1. Print each value\n",
        "nums=100\n",
        "while nums>1:\n",
        "  print(nums)\n",
        "  nums=nums/2\n"
      ]
    },
    {
      "cell_type": "code",
      "execution_count": null,
      "metadata": {},
      "outputs": [],
      "source": [
        "# TAKE USER'S INPUT UNTILL THE TOTAL SUM CROSSES 100\n",
        "total = 0 \n",
        "while 1>0:\n",
        "    z = int(input(\"Enter your numbers: \"))\n",
        "    total += z\n",
        "    if total >100:\n",
        "        print(f\"Your sum of numbers ({total}) crosses the limit 100!\")\n",
        "        break               "
      ]
    }
  ],
  "metadata": {
    "colab": {
      "provenance": []
    },
    "kernelspec": {
      "display_name": "Python 3",
      "name": "python3"
    },
    "language_info": {
      "name": "python"
    }
  },
  "nbformat": 4,
  "nbformat_minor": 0
}
